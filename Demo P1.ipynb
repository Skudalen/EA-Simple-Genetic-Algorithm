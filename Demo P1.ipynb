{
 "cells": [
  {
   "cell_type": "code",
   "execution_count": null,
   "id": "0f7d1377",
   "metadata": {},
   "outputs": [],
   "source": []
  },
  {
   "cell_type": "code",
   "execution_count": null,
   "id": "5738e79f",
   "metadata": {},
   "outputs": [],
   "source": []
  },
  {
   "cell_type": "code",
   "execution_count": 1,
   "id": "4d42a57f",
   "metadata": {},
   "outputs": [],
   "source": [
    "# Set parameters\n",
    "\n",
    "params = {\n",
    "        'indiv_len': 8,\n",
    "        'pop_size': 8,     # Has to be even\n",
    "        'num_parents':8,\n",
    "        'p_m': 0.1,\n",
    "        'p_c': 0.6,\n",
    "        'max_sine_exp': 7\n",
    "    }"
   ]
  },
  {
   "cell_type": "code",
   "execution_count": 2,
   "id": "1019fdf2",
   "metadata": {},
   "outputs": [],
   "source": [
    "from ga import *\n",
    "from p1 import *"
   ]
  },
  {
   "cell_type": "code",
   "execution_count": 3,
   "id": "0edb073a",
   "metadata": {},
   "outputs": [
    {
     "name": "stdout",
     "output_type": "stream",
     "text": [
      "['00010111', '00010011', '00011011', '00010001', '10001000', '01100100', '01110111', '00110101']\n"
     ]
    }
   ],
   "source": [
    "# DEMO init_pop()\n",
    "\n",
    "algorithm = GA(params, fitness=sine_fitness)\n",
    "pop = algorithm.init_pop()\n",
    "print(pop)"
   ]
  },
  {
   "cell_type": "code",
   "execution_count": 4,
   "id": "96f27d9d",
   "metadata": {},
   "outputs": [
    {
     "name": "stdout",
     "output_type": "stream",
     "text": [
      "[-0.9965206904880219, -0.9381702683532772, -0.8852507661210228, -0.8313391791635062, -0.786095708473608, -0.5440211108893699, -0.9962298528432808, 0.8398053526495963]\n",
      "\n",
      "Weights used to select parents based on normalized fitness:\n",
      " [ 0.1939578   0.18260076  0.17230078  0.1618077   0.15300173  0.10588555\n",
      "  0.19390119 -0.16345551]\n",
      "\n",
      "Parents selcted to make offsprings:\n",
      " ['00010111', '00010001', '00010001', '00010001', '00011011', '00010011', '00010001', '10001000']\n"
     ]
    }
   ],
   "source": [
    "# DEMO select_parents()\n",
    "\n",
    "parents = algorithm.select_parents(pop)\n",
    "print('\\nParents selcted to make offsprings:\\n', parents)"
   ]
  },
  {
   "cell_type": "code",
   "execution_count": 5,
   "id": "7c39f7f7",
   "metadata": {},
   "outputs": [
    {
     "name": "stdout",
     "output_type": "stream",
     "text": [
      "['11111', '11111', '11111', '11111', '00000', '00000', '00000', '00000']\n",
      "['11111', '11111', '11111', '11101', '00000', '00100', '01000', '00001']\n"
     ]
    }
   ],
   "source": [
    "# DEMO make_offsprings()\n",
    "\n",
    "dummy_parents = ['11111', '11111', '11111', '11111', '00000', '00000', '00000', '00000']\n",
    "\n",
    "# Crossover\n",
    "crossover_offsprings = algorithm.crossover(dummy_parents)\n",
    "print(crossover_offsprings)\n",
    "\n",
    "# Mutation\n",
    "mutation_offsprings = algorithm.mutate(dummy_parents)\n",
    "print(mutation_offsprings)"
   ]
  },
  {
   "cell_type": "code",
   "execution_count": null,
   "id": "1f013cb5",
   "metadata": {},
   "outputs": [],
   "source": []
  },
  {
   "cell_type": "code",
   "execution_count": null,
   "id": "f73c1b27",
   "metadata": {},
   "outputs": [],
   "source": []
  },
  {
   "cell_type": "code",
   "execution_count": null,
   "id": "db295400",
   "metadata": {},
   "outputs": [],
   "source": []
  },
  {
   "cell_type": "code",
   "execution_count": null,
   "id": "f4650353",
   "metadata": {},
   "outputs": [],
   "source": []
  },
  {
   "cell_type": "code",
   "execution_count": null,
   "id": "a1f270e5",
   "metadata": {},
   "outputs": [],
   "source": []
  },
  {
   "cell_type": "code",
   "execution_count": null,
   "id": "97a3416e",
   "metadata": {},
   "outputs": [],
   "source": []
  }
 ],
 "metadata": {
  "kernelspec": {
   "display_name": "ML_NTNU",
   "language": "python",
   "name": "ml_ntnu"
  },
  "language_info": {
   "codemirror_mode": {
    "name": "ipython",
    "version": 3
   },
   "file_extension": ".py",
   "mimetype": "text/x-python",
   "name": "python",
   "nbconvert_exporter": "python",
   "pygments_lexer": "ipython3",
   "version": "3.7.11"
  }
 },
 "nbformat": 4,
 "nbformat_minor": 5
}
