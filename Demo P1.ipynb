{
 "cells": [
  {
   "cell_type": "code",
   "execution_count": null,
   "id": "0f7d1377",
   "metadata": {},
   "outputs": [],
   "source": []
  },
  {
   "cell_type": "code",
   "execution_count": 5,
   "id": "12d797a1",
   "metadata": {},
   "outputs": [],
   "source": [
    "import random\n",
    "from typing import Callable\n",
    "import numpy as np"
   ]
  },
  {
   "cell_type": "code",
   "execution_count": 6,
   "id": "4d42a57f",
   "metadata": {},
   "outputs": [],
   "source": [
    "# Set parameters\n",
    "\n",
    "params = {\n",
    "        'indiv_len': 10,\n",
    "        'pop_size': 10,     # Has to be even\n",
    "        'num_parents':10,\n",
    "        'p_m': 0.1,\n",
    "        'p_c': 0.6,\n",
    "        'max_sine_exp': 7\n",
    "    }"
   ]
  },
  {
   "cell_type": "code",
   "execution_count": 7,
   "id": "e1a1e6b6",
   "metadata": {},
   "outputs": [],
   "source": [
    "from ga import *\n",
    "from p1 import *"
   ]
  },
  {
   "cell_type": "code",
   "execution_count": 9,
   "id": "0edb073a",
   "metadata": {},
   "outputs": [
    {
     "name": "stdout",
     "output_type": "stream",
     "text": [
      "['0111111101', '1101010110', '1110101101', '0001110010', '1000110100', '1010000110', '1100010011', '0000111001', '1101100110', '1011000011']\n"
     ]
    }
   ],
   "source": [
    "# Demo init_pop()\n",
    "\n",
    "algorithm = GA(params, fitness=sine_fitness)\n",
    "pop = algorithm.init_pop()\n",
    "print(pop)"
   ]
  },
  {
   "cell_type": "code",
   "execution_count": 12,
   "id": "96f27d9d",
   "metadata": {},
   "outputs": [
    {
     "name": "stdout",
     "output_type": "stream",
     "text": [
      "[0.10196459 0.09057352 0.08812342 0.12081087 0.09992553 0.0970633\n",
      " 0.09255852 0.12381239 0.09011258 0.09505529]\n",
      "['1110101101', '1101010110', '1011000011', '0111111101', '0000111001', '1101010110', '1000110100', '1110101101', '1110101101', '0111111101'] \n",
      " 10\n"
     ]
    }
   ],
   "source": [
    "# Demo select_parents()\n",
    "parents = algorithm.select_parents(pop)\n",
    "print(parents, '\\n', len(parents))"
   ]
  },
  {
   "cell_type": "code",
   "execution_count": null,
   "id": "7c39f7f7",
   "metadata": {},
   "outputs": [],
   "source": []
  },
  {
   "cell_type": "code",
   "execution_count": null,
   "id": "18dfb748",
   "metadata": {},
   "outputs": [],
   "source": []
  },
  {
   "cell_type": "code",
   "execution_count": null,
   "id": "f93d97b4",
   "metadata": {},
   "outputs": [],
   "source": []
  },
  {
   "cell_type": "code",
   "execution_count": null,
   "id": "8d0b81f5",
   "metadata": {},
   "outputs": [],
   "source": []
  },
  {
   "cell_type": "code",
   "execution_count": null,
   "id": "63729ffc",
   "metadata": {},
   "outputs": [],
   "source": []
  },
  {
   "cell_type": "code",
   "execution_count": null,
   "id": "01306693",
   "metadata": {},
   "outputs": [],
   "source": []
  }
 ],
 "metadata": {
  "kernelspec": {
   "display_name": "ML_NTNU",
   "language": "python",
   "name": "ml_ntnu"
  },
  "language_info": {
   "codemirror_mode": {
    "name": "ipython",
    "version": 3
   },
   "file_extension": ".py",
   "mimetype": "text/x-python",
   "name": "python",
   "nbconvert_exporter": "python",
   "pygments_lexer": "ipython3",
   "version": "3.7.11"
  }
 },
 "nbformat": 4,
 "nbformat_minor": 5
}
