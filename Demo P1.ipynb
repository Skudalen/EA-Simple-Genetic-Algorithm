{
 "cells": [
  {
   "cell_type": "code",
   "execution_count": null,
   "id": "0f7d1377",
   "metadata": {},
   "outputs": [],
   "source": []
  },
  {
   "cell_type": "code",
   "execution_count": 1,
   "id": "b5bbd976",
   "metadata": {},
   "outputs": [],
   "source": [
    "import random\n",
    "from typing import Callable\n",
    "import numpy as np"
   ]
  },
  {
   "cell_type": "code",
   "execution_count": 2,
   "id": "4d42a57f",
   "metadata": {},
   "outputs": [],
   "source": [
    "# Set parameters\n",
    "\n",
    "params = {\n",
    "        'indiv_len': 15,\n",
    "        'pop_size': 10,\n",
    "        'p_m': 0.1,\n",
    "        'p_c': 0.6,\n",
    "        'max_sine_exp': 7\n",
    "    }"
   ]
  },
  {
   "cell_type": "code",
   "execution_count": 3,
   "id": "03add53d",
   "metadata": {},
   "outputs": [],
   "source": [
    "from ga import *\n",
    "from p1 import *"
   ]
  },
  {
   "cell_type": "code",
   "execution_count": 4,
   "id": "0edb073a",
   "metadata": {},
   "outputs": [
    {
     "data": {
      "text/plain": [
       "['001010011011101',\n",
       " '100101111011010',\n",
       " '100111011010111',\n",
       " '010010100111010',\n",
       " '110110111111000',\n",
       " '010110110010010',\n",
       " '111100001101000',\n",
       " '110010001011101',\n",
       " '111101111100001',\n",
       " '010111010011111']"
      ]
     },
     "execution_count": 4,
     "metadata": {},
     "output_type": "execute_result"
    }
   ],
   "source": [
    "# Demo init_pop()\n",
    "\n",
    "alg = GA(params, fitness=sine_fitness)\n",
    "alg.init_pop()\n",
    "#pop.agg(lambda x: print(x))"
   ]
  },
  {
   "cell_type": "code",
   "execution_count": null,
   "id": "96f27d9d",
   "metadata": {},
   "outputs": [],
   "source": []
  },
  {
   "cell_type": "code",
   "execution_count": null,
   "id": "7c39f7f7",
   "metadata": {},
   "outputs": [],
   "source": []
  }
 ],
 "metadata": {
  "kernelspec": {
   "display_name": "ML_NTNU",
   "language": "python",
   "name": "ml_ntnu"
  },
  "language_info": {
   "codemirror_mode": {
    "name": "ipython",
    "version": 3
   },
   "file_extension": ".py",
   "mimetype": "text/x-python",
   "name": "python",
   "nbconvert_exporter": "python",
   "pygments_lexer": "ipython3",
   "version": "3.7.11"
  }
 },
 "nbformat": 4,
 "nbformat_minor": 5
}
