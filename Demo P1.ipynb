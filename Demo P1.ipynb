{
 "cells": [
  {
   "cell_type": "code",
   "execution_count": null,
   "id": "0f7d1377",
   "metadata": {},
   "outputs": [],
   "source": []
  },
  {
   "cell_type": "code",
   "execution_count": null,
   "id": "5738e79f",
   "metadata": {},
   "outputs": [],
   "source": []
  },
  {
   "cell_type": "code",
   "execution_count": 1,
   "id": "4d42a57f",
   "metadata": {},
   "outputs": [],
   "source": [
    "# Set parameters\n",
    "\n",
    "params = {\n",
    "        'indiv_len': 10,\n",
    "        'pop_size': 10,     # Has to be even\n",
    "        'num_parents':2,\n",
    "        'p_m': 0.1,\n",
    "        'p_c': 0.6,\n",
    "        'max_sine_exp': 7\n",
    "    }"
   ]
  },
  {
   "cell_type": "code",
   "execution_count": 6,
   "id": "1019fdf2",
   "metadata": {},
   "outputs": [],
   "source": [
    "from ga import *\n",
    "from p1 import *"
   ]
  },
  {
   "cell_type": "code",
   "execution_count": 7,
   "id": "0edb073a",
   "metadata": {},
   "outputs": [
    {
     "name": "stdout",
     "output_type": "stream",
     "text": [
      "['1011010010', '1000110011', '1110001000', '0001000000', '1111001100', '0100001111', '0000011001', '1010101001', '1110100111', '0000110111']\n"
     ]
    }
   ],
   "source": [
    "# DEMO init_pop()\n",
    "\n",
    "algorithm = GA(params, fitness=sine_fitness)\n",
    "pop = algorithm.init_pop()\n",
    "print(pop)"
   ]
  },
  {
   "cell_type": "code",
   "execution_count": 8,
   "id": "96f27d9d",
   "metadata": {},
   "outputs": [
    {
     "name": "stdout",
     "output_type": "stream",
     "text": [
      "Weights used to select parents based on normalized fitness: [0.0910482  0.09623316 0.08582362 0.11890861 0.08402651 0.1080704\n",
      " 0.11930451 0.09232241 0.08499498 0.11926758]\n",
      "['0000110111', '1010101001'] \n",
      " 2\n"
     ]
    }
   ],
   "source": [
    "# DEMO select_parents()\n",
    "\n",
    "parents = algorithm.select_parents(pop)\n",
    "print(parents, '\\n', len(parents))"
   ]
  },
  {
   "cell_type": "code",
   "execution_count": 13,
   "id": "7c39f7f7",
   "metadata": {},
   "outputs": [
    {
     "name": "stdout",
     "output_type": "stream",
     "text": [
      "['11110', '00001']\n",
      "[]\n"
     ]
    }
   ],
   "source": [
    "# DEMO make_offsprings()\n",
    "\n",
    "dummy_parents = ['11111', '00000']\n",
    "\n",
    "# Crossover\n",
    "crossover_offsprings = algorithm.crossover(dummy_parents)\n",
    "print(crossover_offsprings)\n",
    "\n",
    "# Mutation\n",
    "mutation_offsprings = algorithm.mutate(dummy_parents)\n",
    "print(mutation_offsprings)"
   ]
  },
  {
   "cell_type": "code",
   "execution_count": null,
   "id": "1f013cb5",
   "metadata": {},
   "outputs": [],
   "source": []
  },
  {
   "cell_type": "code",
   "execution_count": null,
   "id": "f73c1b27",
   "metadata": {},
   "outputs": [],
   "source": []
  },
  {
   "cell_type": "code",
   "execution_count": null,
   "id": "db295400",
   "metadata": {},
   "outputs": [],
   "source": []
  },
  {
   "cell_type": "code",
   "execution_count": null,
   "id": "f4650353",
   "metadata": {},
   "outputs": [],
   "source": []
  },
  {
   "cell_type": "code",
   "execution_count": null,
   "id": "a1f270e5",
   "metadata": {},
   "outputs": [],
   "source": []
  },
  {
   "cell_type": "code",
   "execution_count": null,
   "id": "2a42aa88",
   "metadata": {},
   "outputs": [],
   "source": []
  }
 ],
 "metadata": {
  "kernelspec": {
   "display_name": "ML_NTNU",
   "language": "python",
   "name": "ml_ntnu"
  },
  "language_info": {
   "codemirror_mode": {
    "name": "ipython",
    "version": 3
   },
   "file_extension": ".py",
   "mimetype": "text/x-python",
   "name": "python",
   "nbconvert_exporter": "python",
   "pygments_lexer": "ipython3",
   "version": "3.7.11"
  }
 },
 "nbformat": 4,
 "nbformat_minor": 5
}
