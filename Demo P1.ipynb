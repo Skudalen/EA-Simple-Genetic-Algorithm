{
 "cells": [
  {
   "cell_type": "code",
   "execution_count": null,
   "id": "0f7d1377",
   "metadata": {},
   "outputs": [],
   "source": []
  },
  {
   "cell_type": "code",
   "execution_count": null,
   "id": "5738e79f",
   "metadata": {},
   "outputs": [],
   "source": []
  },
  {
   "cell_type": "code",
   "execution_count": 1,
   "id": "4d42a57f",
   "metadata": {},
   "outputs": [],
   "source": [
    "# Set parameters\n",
    "\n",
    "params = {\n",
    "        'indiv_len': 8,\n",
    "        'pop_size': 8,     # Has to be even\n",
    "        'num_parents':8,\n",
    "        'p_m': 0.1,\n",
    "        'p_c': 0.6,\n",
    "        'max_sine_exp': 7\n",
    "    }"
   ]
  },
  {
   "cell_type": "code",
   "execution_count": 2,
   "id": "1019fdf2",
   "metadata": {},
   "outputs": [],
   "source": [
    "from ga import *\n",
    "from p1 import *"
   ]
  },
  {
   "cell_type": "code",
   "execution_count": 3,
   "id": "0edb073a",
   "metadata": {},
   "outputs": [
    {
     "name": "stdout",
     "output_type": "stream",
     "text": [
      "['11100111', '00100010', '10111001', '01011101', '01011111', '00010000', '11011011', '10100111']\n"
     ]
    }
   ],
   "source": [
    "# DEMO init_pop()\n",
    "\n",
    "algorithm = GA(params, fitness=sine_fitness)\n",
    "pop = algorithm.init_pop()\n",
    "print(pop)"
   ]
  },
  {
   "cell_type": "code",
   "execution_count": 4,
   "id": "96f27d9d",
   "metadata": {},
   "outputs": [
    {
     "name": "stdout",
     "output_type": "stream",
     "text": [
      "\n",
      "Weights used to select parents based on normalized fitness:\n",
      " [0.16984763 0.06428591 0.21236416 0.08938784 0.07804405 0.02776819\n",
      " 0.20427677 0.15402545]\n",
      "\n",
      "Parents selcted to make offsprings:\n",
      " ['10111001', '11011011', '11011011', '10100111', '11011011', '00100010', '01011101', '10100111']\n"
     ]
    }
   ],
   "source": [
    "# DEMO select_parents()\n",
    "\n",
    "parents = algorithm.select_parents(pop)\n",
    "print('\\nParents selcted to make offsprings:\\n', parents)"
   ]
  },
  {
   "cell_type": "code",
   "execution_count": 13,
   "id": "7c39f7f7",
   "metadata": {},
   "outputs": [
    {
     "name": "stdout",
     "output_type": "stream",
     "text": [
      "Crossover:\n",
      " ['10000', '01111', '10000', '01111', '10000', '01111', '11100', '00011']\n",
      "\n",
      "Mutation:\n",
      " ['11101', '00000', '11111', '00000', '11111', '00000', '11111', '00000']\n",
      "\n",
      "\n",
      "A new generation:\n",
      " ['10000', '01111', '10000', '01111', '10000', '01111', '10000', '01101']\n"
     ]
    }
   ],
   "source": [
    "# DEMO make_offsprings()\n",
    "\n",
    "dummy_parents = ['11111', '00000', '11111', '00000', '11111', '00000', '11111', '00000']\n",
    "\n",
    "# Crossover\n",
    "crossover_offsprings = algorithm.crossover(dummy_parents)\n",
    "print('Crossover:\\n', crossover_offsprings)\n",
    "\n",
    "# Mutation\n",
    "mutation_offsprings = algorithm.mutate(dummy_parents)\n",
    "print('\\nMutation:\\n', mutation_offsprings)\n",
    "\n",
    "# Make offsprings\n",
    "offsprings = algorithm.make_offsprings(dummy_parents)\n",
    "print('\\n\\nA new generation:\\n', offsprings)"
   ]
  },
  {
   "cell_type": "code",
   "execution_count": null,
   "id": "1f013cb5",
   "metadata": {},
   "outputs": [],
   "source": [
    "# DEMO run(), the complete GA with sine fitness function\n",
    "\n"
   ]
  },
  {
   "cell_type": "code",
   "execution_count": null,
   "id": "f73c1b27",
   "metadata": {},
   "outputs": [],
   "source": []
  },
  {
   "cell_type": "code",
   "execution_count": null,
   "id": "db295400",
   "metadata": {},
   "outputs": [],
   "source": []
  },
  {
   "cell_type": "code",
   "execution_count": null,
   "id": "f4650353",
   "metadata": {},
   "outputs": [],
   "source": []
  },
  {
   "cell_type": "code",
   "execution_count": null,
   "id": "a1f270e5",
   "metadata": {},
   "outputs": [],
   "source": []
  },
  {
   "cell_type": "code",
   "execution_count": null,
   "id": "7f5cffa5",
   "metadata": {},
   "outputs": [],
   "source": []
  }
 ],
 "metadata": {
  "kernelspec": {
   "display_name": "ML_NTNU",
   "language": "python",
   "name": "ml_ntnu"
  },
  "language_info": {
   "codemirror_mode": {
    "name": "ipython",
    "version": 3
   },
   "file_extension": ".py",
   "mimetype": "text/x-python",
   "name": "python",
   "nbconvert_exporter": "python",
   "pygments_lexer": "ipython3",
   "version": "3.7.11"
  }
 },
 "nbformat": 4,
 "nbformat_minor": 5
}
