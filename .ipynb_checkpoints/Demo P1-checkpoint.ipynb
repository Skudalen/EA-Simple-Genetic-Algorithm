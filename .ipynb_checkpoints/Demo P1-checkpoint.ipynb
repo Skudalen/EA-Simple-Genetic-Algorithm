{
 "cells": [
  {
   "cell_type": "code",
   "execution_count": null,
   "id": "0f7d1377",
   "metadata": {},
   "outputs": [],
   "source": []
  },
  {
   "cell_type": "code",
   "execution_count": 1,
   "id": "ad20ef3a",
   "metadata": {},
   "outputs": [],
   "source": [
    "import random\n",
    "from typing import Callable\n",
    "import numpy as np"
   ]
  },
  {
   "cell_type": "code",
   "execution_count": 2,
   "id": "4d42a57f",
   "metadata": {},
   "outputs": [],
   "source": [
    "# Set parameters\n",
    "\n",
    "params = {\n",
    "        'indiv_len': 10,\n",
    "        'pop_size': 10,     # Has to be even\n",
    "        'num_parents':10,\n",
    "        'p_m': 0.1,\n",
    "        'p_c': 0.6,\n",
    "        'max_sine_exp': 7\n",
    "    }"
   ]
  },
  {
   "cell_type": "code",
   "execution_count": 3,
   "id": "fdc11900",
   "metadata": {},
   "outputs": [],
   "source": [
    "from ga import *\n",
    "from p1 import *"
   ]
  },
  {
   "cell_type": "code",
   "execution_count": 4,
   "id": "0edb073a",
   "metadata": {},
   "outputs": [
    {
     "data": {
      "text/plain": [
       "['001010011011101',\n",
       " '100101111011010',\n",
       " '100111011010111',\n",
       " '010010100111010',\n",
       " '110110111111000',\n",
       " '010110110010010',\n",
       " '111100001101000',\n",
       " '110010001011101',\n",
       " '111101111100001',\n",
       " '010111010011111']"
      ]
     },
     "execution_count": 4,
     "metadata": {},
     "output_type": "execute_result"
    }
   ],
   "source": [
    "# Demo init_pop()\n",
    "\n",
    "algorithm = GA(params, fitness=sine_fitness)\n",
    "pop = algorithm.init_pop()\n",
    "print(pop)"
   ]
  },
  {
   "cell_type": "code",
   "execution_count": null,
   "id": "96f27d9d",
   "metadata": {},
   "outputs": [],
   "source": [
    "# Demo select_parents()\n",
    "parents = algorithm.select_parents(pop)\n",
    "    print(parents, len(parents))"
   ]
  },
  {
   "cell_type": "code",
   "execution_count": null,
   "id": "7c39f7f7",
   "metadata": {},
   "outputs": [],
   "source": []
  }
 ],
 "metadata": {
  "kernelspec": {
   "display_name": "ML_NTNU",
   "language": "python",
   "name": "ml_ntnu"
  },
  "language_info": {
   "codemirror_mode": {
    "name": "ipython",
    "version": 3
   },
   "file_extension": ".py",
   "mimetype": "text/x-python",
   "name": "python",
   "nbconvert_exporter": "python",
   "pygments_lexer": "ipython3",
   "version": "3.7.11"
  }
 },
 "nbformat": 4,
 "nbformat_minor": 5
}
