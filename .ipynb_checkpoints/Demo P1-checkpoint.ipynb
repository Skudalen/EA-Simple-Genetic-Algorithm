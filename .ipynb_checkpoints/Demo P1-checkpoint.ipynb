{
 "cells": [
  {
   "cell_type": "code",
   "execution_count": null,
   "id": "0f7d1377",
   "metadata": {},
   "outputs": [],
   "source": []
  },
  {
   "cell_type": "code",
   "execution_count": null,
   "id": "5738e79f",
   "metadata": {},
   "outputs": [],
   "source": []
  },
  {
   "cell_type": "code",
   "execution_count": 1,
   "id": "4d42a57f",
   "metadata": {},
   "outputs": [],
   "source": [
    "# Set parameters\n",
    "\n",
    "params = {\n",
    "        'indiv_len': 8,\n",
    "        'pop_size': 8,     # Has to be even\n",
    "        'num_parents':8,   # Has to be <= pop_size\n",
    "        'p_m': 0.1,\n",
    "        'p_c': 0.6,\n",
    "        'max_sine_exp': 7,\n",
    "        'max_gen': 10\n",
    "    }"
   ]
  },
  {
   "cell_type": "code",
   "execution_count": 2,
   "id": "1019fdf2",
   "metadata": {},
   "outputs": [],
   "source": [
    "from ga import *\n",
    "from p1 import *"
   ]
  },
  {
   "cell_type": "code",
   "execution_count": 3,
   "id": "0edb073a",
   "metadata": {},
   "outputs": [
    {
     "name": "stdout",
     "output_type": "stream",
     "text": [
      "['01101010', '10110010', '11011100', '10011001', '00001011', '00000101', '10011100', '01110000']\n"
     ]
    }
   ],
   "source": [
    "# DEMO init_pop()\n",
    "\n",
    "algorithm = GA(params, fitness=sine_fitness)\n",
    "pop = algorithm.init_pop()\n",
    "print(pop)"
   ]
  },
  {
   "cell_type": "code",
   "execution_count": 4,
   "id": "96f27d9d",
   "metadata": {},
   "outputs": [
    {
     "name": "stdout",
     "output_type": "stream",
     "text": [
      "\n",
      "Weights used to select parents based on normalized fitness:\n",
      " [0.13974452 0.18620948 0.0956798  0.18940719 0.02947803 0.16002127\n",
      " 0.1515627  0.047897  ]\n",
      "\n",
      "Parents selcted to make offsprings:\n",
      " ['01110000', '10110010', '10110010', '10011100', '10011100', '10011100', '10011100', '10011001']\n"
     ]
    }
   ],
   "source": [
    "# DEMO select_parents()\n",
    "\n",
    "parents = algorithm.select_parents(pop)\n",
    "print('\\nParents selcted to make offsprings:\\n', parents)"
   ]
  },
  {
   "cell_type": "code",
   "execution_count": 5,
   "id": "7c39f7f7",
   "metadata": {},
   "outputs": [
    {
     "name": "stdout",
     "output_type": "stream",
     "text": [
      "Crossover:\n",
      " ['10000', '01111', '11100', '00011', '11000', '00111', '11000', '00111']\n",
      "\n",
      "Mutation:\n",
      " ['01111', '00000', '11111', '00000', '11111', '00001', '11111', '00000']\n",
      "\n",
      "\n",
      "A new generation:\n",
      " ['10100', '01111', '00000', '01011', '11000', '00111', '10100', '01111']\n"
     ]
    }
   ],
   "source": [
    "# DEMO make_offsprings()\n",
    "\n",
    "dummy_parents = ['11111', '00000', '11111', '00000', '11111', '00000', '11111', '00000']\n",
    "\n",
    "# Crossover\n",
    "crossover_offsprings = algorithm.crossover(dummy_parents)\n",
    "print('Crossover:\\n', crossover_offsprings)\n",
    "\n",
    "# Mutation\n",
    "mutation_offsprings = algorithm.mutate(dummy_parents)\n",
    "print('\\nMutation:\\n', mutation_offsprings)\n",
    "\n",
    "# Make offsprings\n",
    "offsprings = algorithm.make_offsprings(dummy_parents)\n",
    "print('\\n\\nA new generation:\\n', offsprings)"
   ]
  },
  {
   "cell_type": "markdown",
   "id": "ec31b0a8",
   "metadata": {},
   "source": [
    "## DEMO GA: Sine [0, 128]"
   ]
  },
  {
   "cell_type": "code",
   "execution_count": 6,
   "id": "1f013cb5",
   "metadata": {},
   "outputs": [
    {
     "name": "stdout",
     "output_type": "stream",
     "text": [
      "\n",
      "Weights used to select parents based on normalized fitness:\n",
      " [0.17927958 0.1333125  0.15045171 0.0494154  0.01106772 0.19277854\n",
      " 0.28201331 0.00168125]\n",
      "\n",
      "Weights used to select parents based on normalized fitness:\n",
      " [0.0633471  0.20609987 0.19485821 0.04846289 0.10385802 0.2277526\n",
      " 0.13966899 0.01595233]\n",
      "\n",
      "Weights used to select parents based on normalized fitness:\n",
      " [0.17530855 0.03866995 0.01936428 0.18173044 0.06755632 0.14216981\n",
      " 0.18173044 0.19347021]\n",
      "\n",
      "Weights used to select parents based on normalized fitness:\n",
      " [0.12424771 0.1031869  0.1031869  0.13771925 0.10067154 0.13947833\n",
      " 0.14326924 0.14824013]\n",
      "\n",
      "Weights used to select parents based on normalized fitness:\n",
      " [0.00899698 0.15603229 0.12486689 0.13946959 0.11643701 0.14866961\n",
      " 0.15669049 0.14883714]\n",
      "\n",
      "Weights used to select parents based on normalized fitness:\n",
      " [0.14831118 0.11256164 0.1533002  0.15187824 0.1232941  0.12851265\n",
      " 0.12851265 0.05362935]\n",
      "\n",
      "Weights used to select parents based on normalized fitness:\n",
      " [0.14150015 0.03349473 0.11585066 0.13929136 0.13118329 0.16180551\n",
      " 0.16461668 0.11225762]\n",
      "\n",
      "Weights used to select parents based on normalized fitness:\n",
      " [0.13463995 0.14909889 0.16082177 0.09004406 0.12680263 0.01713509\n",
      " 0.16060933 0.16084829]\n",
      "\n",
      "Weights used to select parents based on normalized fitness:\n",
      " [0.16502614 0.00291707 0.15139819 0.01273261 0.19506484 0.13921862\n",
      " 0.1718221  0.16182043]\n",
      "\n",
      "Weights used to select parents based on normalized fitness:\n",
      " [0.14557829 0.1157187  0.10389986 0.10389986 0.10389986 0.14557829\n",
      " 0.12823207 0.15319308]\n"
     ]
    }
   ],
   "source": [
    "# DEMO run(), the complete GA with sine fitness function\n",
    "\n",
    "params = {\n",
    "        'indiv_len': 10,\n",
    "        'pop_size': 8,     # Has to be even\n",
    "        'num_parents':8,\n",
    "        'p_m': 0.1,\n",
    "        'p_c': 0.6,\n",
    "        'max_sine_exp': 7,\n",
    "        'max_gen': 10\n",
    "    }\n",
    "algorithm = GA(params, fitness=sine_fitness)\n",
    "pop, eval_log = algorithm.run()"
   ]
  },
  {
   "cell_type": "code",
   "execution_count": 7,
   "id": "f73c1b27",
   "metadata": {},
   "outputs": [
    {
     "name": "stdout",
     "output_type": "stream",
     "text": [
      "['1110010111', '0111001100', '1110010111', '1111100100', '1110011100', '1111000100', '1111000100', '1111000100']\n",
      "0 :\n",
      " [113.25   91.25    6.25   47.875  11.375  21.75   83.875  55.125] :\n",
      " [0.1520721505286041, -0.1433178301056054, -0.03317921654755682, -0.6824506579520152, -0.9288774974380447, 0.23881812402958275, 0.8122514732198877, -0.9891961033692368] :\n",
      "\n",
      "1 :\n",
      " [ 93.75   19.625 113.75   91.75   91.25   83.75  113.25   85.875] :\n",
      " [-0.47747578081934605, 0.7000332653356665, 0.6073053970056359, -0.6002495204866958, -0.1433178301056054, 0.8786377137914245, 0.1520721505286041, -0.8684158155762116] :\n",
      "\n",
      "2 :\n",
      " [ 83.875  91.75   85.75   83.75   81.375 115.75   83.75   83.25 ] :\n",
      " [0.8122514732198877, -0.6002495204866958, -0.799821845795485, 0.8786377137914245, -0.3016368406826962, 0.46967991851234675, 0.8786377137914245, 0.9999975682825487] :\n",
      "\n",
      "3 :\n",
      " [115.5    19.25   19.25   19.875 115.875  83.75   82.875 114.75 ] :\n",
      " [0.6734960211850264, 0.3898273272463786, 0.3898273272463786, 0.8549446258241684, 0.35594787974510245, 0.8786377137914245, 0.9296976116541461, 0.9966506748361166] :\n",
      "\n",
      "4 :\n",
      " [ 86.875  83.5   115.625 115.375 115.75   82.75   51.625  83.75 ] :\n",
      " [-0.8864392114132281, 0.9694556700786149, 0.5760827592397212, 0.7603996029763147, 0.46967991851234675, 0.8765231419236595, 0.9777635398824176, 0.8786377137914245] :\n",
      "\n",
      "5 :\n",
      " [ 83.625  50.75   51.75   51.625  19.5   115.5   115.5    81.375] :\n",
      " [0.9313131067072369, 0.4657814871984436, 0.9962802940213323, 0.9777635398824176, 0.6055398697196009, 0.6734960211850264, 0.6734960211850264, -0.3016368406826962] :\n",
      "\n",
      "6 :\n",
      " [ 19.625  49.625 113.5   115.5   115.625  51.5    51.625  90.75 ] :\n",
      " [0.7000332653356665, -0.5975823489075596, 0.3918710971800401, 0.6734960211850264, 0.5760827592397212, 0.9439891127251193, 0.9777635398824176, 0.348703063469403] :\n",
      "\n",
      "7 :\n",
      " [115.5   121.5    26.75  119.5   115.625  99.625  51.75   51.875] :\n",
      " [0.6734960211850264, 0.8532122467168191, 0.9989208147888241, 0.1191951001872563, 0.5760827592397212, -0.7870208027585845, 0.9962802940213323, 0.9992504273866143] :\n",
      "\n",
      "8 :\n",
      " [113.75   61.5   119.875  35.625 120.5   115.875 115.5   115.625] :\n",
      " [0.6073053970056359, -0.9715886235161092, 0.4745732671149915, -0.8759881981492638, 0.8998734008192355, 0.35594787974510245, 0.6734960211850264, 0.5760827592397212] :\n",
      "\n",
      "9 :\n",
      " [120.5    88.5   115.875 115.875 115.875 120.5   115.5    51.875] :\n",
      " [0.8998734008192355, 0.5101900080017631, 0.35594787974510245, 0.35594787974510245, 0.35594787974510245, 0.8998734008192355, 0.6734960211850264, 0.9992504273866143] :\n",
      "\n",
      "10 :\n",
      " [114.875  57.5   114.875 124.5   115.5   120.5   120.5   120.5  ] :\n",
      " [0.9786789835356506, 0.8141897215084345, 0.9786789835356506, -0.9182768186539993, 0.6734960211850264, 0.8998734008192355, 0.8998734008192355, 0.8998734008192355] :\n",
      "\n"
     ]
    },
    {
     "data": {
      "text/plain": [
       "[None, None, None, None, None, None, None, None, None, None, None]"
      ]
     },
     "execution_count": 7,
     "metadata": {},
     "output_type": "execute_result"
    }
   ],
   "source": [
    "print(pop)\n",
    "\n",
    "[print(key, ':\\n', value[0], ':\\n', value[1], ':\\n') for key, value in eval_log.items()]"
   ]
  },
  {
   "cell_type": "code",
   "execution_count": 8,
   "id": "2d281b6c",
   "metadata": {},
   "outputs": [
    {
     "ename": "AttributeError",
     "evalue": "'GA' object has no attribute 'plot_sine_generation'",
     "output_type": "error",
     "traceback": [
      "\u001b[0;31m---------------------------------------------------------------------------\u001b[0m",
      "\u001b[0;31mAttributeError\u001b[0m                            Traceback (most recent call last)",
      "\u001b[0;32m<ipython-input-8-2f02ff3be93c>\u001b[0m in \u001b[0;36m<module>\u001b[0;34m\u001b[0m\n\u001b[0;32m----> 1\u001b[0;31m \u001b[0malgorithm\u001b[0m\u001b[0;34m.\u001b[0m\u001b[0mplot_sine_generation\u001b[0m\u001b[0;34m(\u001b[0m\u001b[0meval_log\u001b[0m\u001b[0;34m)\u001b[0m\u001b[0;34m\u001b[0m\u001b[0;34m\u001b[0m\u001b[0m\n\u001b[0m",
      "\u001b[0;31mAttributeError\u001b[0m: 'GA' object has no attribute 'plot_sine_generation'"
     ]
    }
   ],
   "source": [
    "algorithm.plot_sine_generations(eval_log)"
   ]
  },
  {
   "cell_type": "code",
   "execution_count": null,
   "id": "db295400",
   "metadata": {
    "scrolled": false
   },
   "outputs": [],
   "source": [
    "# Plot the generations\n",
    "\n",
    "%matplotlib notebook\n",
    "from ipywidgets import *\n",
    "import matplotlib.pyplot as plt\n",
    "from matplotlib.widgets import Slider, Button\n",
    "\n",
    "x_sine = np.linspace(0, 128, 1000)\n",
    "y_sine = np.sin(x_sine)\n",
    "\n",
    "fig, axs = plt.subplots(figsize=(5,3))\n",
    "plt.subplots_adjust(bottom=0.35)\n",
    "plt.title(\"Population plot\")\n",
    "plt.xlabel(\"x\")\n",
    "plt.ylabel(\"sin(x)\");\n",
    "plt.xlim(-1, 129)\n",
    "plt.ylim(-1.5, 1.5)\n",
    "line, = axs.plot(x_sine, y_sine)\n",
    "\n",
    "i = 1\n",
    "x = eval_log[i][0]\n",
    "y = eval_log[i][1]\n",
    "\n",
    "dots = axs.scatter(x, y, marker='o', color='orange')\n",
    "\n",
    "ax = plt.axes([0.25, 0.1, 0.55, 0.05])\n",
    "generation = Slider(ax, label='Generation', valmin=0, valmax=params['max_gen'], valstep=1, valinit=i)\n",
    "\n",
    "def update(val):\n",
    "    gen = generation.val\n",
    "    dots.set_offsets(np.c_[eval_log[gen][0], eval_log[gen][1]])\n",
    "\n",
    "generation.on_changed(update)\n",
    "\n",
    "\n",
    "[print(pop) for pop in ]\n"
   ]
  },
  {
   "cell_type": "code",
   "execution_count": null,
   "id": "f4650353",
   "metadata": {},
   "outputs": [],
   "source": []
  },
  {
   "cell_type": "code",
   "execution_count": null,
   "id": "a1f270e5",
   "metadata": {},
   "outputs": [],
   "source": []
  },
  {
   "cell_type": "code",
   "execution_count": null,
   "id": "4a4ddabe",
   "metadata": {},
   "outputs": [],
   "source": []
  }
 ],
 "metadata": {
  "kernelspec": {
   "display_name": "ML_NTNU",
   "language": "python",
   "name": "ml_ntnu"
  },
  "language_info": {
   "codemirror_mode": {
    "name": "ipython",
    "version": 3
   },
   "file_extension": ".py",
   "mimetype": "text/x-python",
   "name": "python",
   "nbconvert_exporter": "python",
   "pygments_lexer": "ipython3",
   "version": "3.7.11"
  }
 },
 "nbformat": 4,
 "nbformat_minor": 5
}
